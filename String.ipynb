{
 "cells": [
  {
   "cell_type": "markdown",
   "id": "ee18c4a9",
   "metadata": {},
   "source": [
    "# String"
   ]
  },
  {
   "cell_type": "markdown",
   "id": "e1a1b057",
   "metadata": {},
   "source": [
    "## การสร้างสตริง\n",
    "\n",
    "**สตริง** คือ การที่นำ Character มารวมกันเป็น Array โดยตัว Compiler จะอ่าน Character ตั้งแต่ตัวแรกจนถึงตัวหยุด (Null Character , 0, '\\0') ซึ่งในการนิยามตัวแปรเราจะนิยามได้ 3 แบบ"
   ]
  },
  {
   "cell_type": "code",
   "execution_count": 1,
   "id": "ce4f55cf",
   "metadata": {},
   "outputs": [
    {
     "name": "stdout",
     "output_type": "stream",
     "text": [
      "Hello 1\n",
      "Hello 2\n",
      "Hello 3\n"
     ]
    }
   ],
   "source": [
    "#include <stdio.h>\n",
    "\n",
    "int main() {\n",
    "    char str1[10] = \"Hello 1\"; // สร้าง Array ของ Character\n",
    "    char *str2 = \"Hello 2\"; // Pointer ไปที่ Array ของ Character\n",
    "    char str3[10] = {'H', 'e', 'l', 'l', 'o', ' ', '3', '\\0'}; // สร้าง Array ของ Character แบบ Explicits\n",
    "\n",
    "    puts(str1);\n",
    "    puts(str2);\n",
    "    puts(str3);\n",
    "}"
   ]
  },
  {
   "cell_type": "markdown",
   "id": "b84c94f9",
   "metadata": {},
   "source": [
    "จากที่กล่าวมาว่า String นั้นคือ Array ของ Character ดังนั้นเปลว่าเราสามารถเข้าถึง index ของแต่ละ string ได้เพื่อแก้ไข หรือทำการดูได้"
   ]
  },
  {
   "cell_type": "code",
   "execution_count": 2,
   "id": "9bce99fd",
   "metadata": {},
   "outputs": [
    {
     "name": "stdout",
     "output_type": "stream",
     "text": [
      "Hello World\n",
      "Hello Mar\n"
     ]
    }
   ],
   "source": [
    "#include <stdio.h>\n",
    "\n",
    "int main() {\n",
    "    const char *str1 = \"Hello World\";\n",
    "    char str2[20] = \"Ifmmp!Nbs\";\n",
    "\n",
    "    for (int i = 0; str1[i]; i++)\n",
    "        putchar(str1[i]);\n",
    "    printf(\"\\n\");\n",
    "\n",
    "    for (int i = 0; str2[i]; i++) \n",
    "        str2[i] -= 1;\n",
    "    printf(\"%s\\n\", str2);\n",
    "}"
   ]
  },
  {
   "cell_type": "markdown",
   "id": "d3e8c82e",
   "metadata": {},
   "source": [
    "## การ Scan สตริง"
   ]
  },
  {
   "cell_type": "markdown",
   "id": "d1ef556c",
   "metadata": {},
   "source": [
    "การ Scan สตริงเราจะมี Function ที่จะใช้คือ  \n",
    "- scanf() จะเป็นการ Scan แบบมี Format หากไม่มี Format จะทำการแสกนไปจนถึง space tab newline EOF(End-of-file)\n",
    "- gets() จะเป็นการ scan แบบไม่มี Format โดยจะทำการอ่านทั้งบรรทัดของข้อความ\n",
    "  **ควรระวัง ขนาดตัวอักษรจะเกิดขนาดของตัวแปรเพราะไม่มีการเช็คความยาวของตัวอักษร**"
   ]
  },
  {
   "cell_type": "code",
   "execution_count": 4,
   "id": "a644b6a5",
   "metadata": {},
   "outputs": [
    {
     "name": "stderr",
     "output_type": "stream",
     "text": [
      "/tmp/tmp4yelzsmj.c: In function ‘main’:\n",
      "/tmp/tmp4yelzsmj.c:11:5: warning: implicit declaration of function ‘gets’; did you mean ‘fgets’? [-Wimplicit-function-declaration]\n",
      "   11 |     gets(str2);\n",
      "      |     ^~~~\n",
      "      |     fgets\n",
      "/usr/bin/ld: /tmp/cckWb6NL.o: in function `main':\n",
      "tmp4yelzsmj.c:(.text+0x7a): warning: the `gets' function is dangerous and should not be used.\n"
     ]
    },
    {
     "name": "stdout",
     "output_type": "stream",
     "text": [
      "\n",
      "\n"
     ]
    }
   ],
   "source": [
    "#include <stdio.h>\n",
    "\n",
    "int main() {\n",
    "    char str1[20] = \"\";\n",
    "    char str2[20] = \"\";\n",
    "\n",
    "    scanf(\"%19s\", str1); // รับตัวอักษร 19 ตัว (เผื่อ 1 ตัวไว้สำหรับ null character)\n",
    "    // scanf(\"%s\", str1);  << unsafe\n",
    "    printf(\"%s\\n\", str1);\n",
    "\n",
    "    gets(str2);\n",
    "    printf(\"%s\\n\", str2);\n",
    "}"
   ]
  },
  {
   "cell_type": "markdown",
   "id": "89bd25a3",
   "metadata": {},
   "source": [
    "## Character Handling Library <ctype.h>\n",
    "\n",
    "เป็น Library สำหรับการเช็คการเปลี่ยนแปลง Characters (หากเป็น String ต้องเช็คเอาเอง)"
   ]
  },
  {
   "cell_type": "markdown",
   "id": "d1ff01e3",
   "metadata": {},
   "source": [
    "**ฟังก์ชันสำหรับการเช็ค Characters**\n",
    "```c \n",
    "int isblank(int c);  เช็คว่าเป็น Blank character หรือไม่ เช่น ' ', \\t  // \\0 \\v \\n ไม่เป็น space \n",
    "int isdigit(int c);  เช็คว่าเป็น ตัวเลข หรือไม่\n",
    "int isalpha(int c);  เช็คว่าเป็น Alphabet ตัวอักษร หรือไม่\n",
    "int isalnum(int c);  เช็ตว่าเป็น ตัวเลขหรือตัวอักษร หรือไม่\n",
    "int isxdigit(int c); เช็คว่าเป็นเลขฐาน 8 หรือไม่\n",
    "int islower(int c);  เช็คว่าเป็นอักษรพิมพ์เล็กหรือไม่\n",
    "int isupper(int c);  เช็ตว่าเป็นอักษรพิมพ์ใหญ่หรือไม่\n",
    "\n",
    "int isspace(int c);  เช็คว่าเป็น white space หรือไม่ เช่น newline \\n,  space ' ', tab \\t \\v , fromfeed \\f, etc.  // ระวัง Null char ไม่เป็น space\n",
    "int iscntrl(int c);  เช็คว่าเป็น control character หรือไม่ เป็นพวก ตระกูล Back slash  // ระวัง 0 เป็น control char แต่ '0' ไม่ใช้\n",
    "int ispunct(int c);  เช็คว่าเป็น เครื่องหมายวรรตอนหรือไม่ เช่น !, &, $, %, วงเล็บ, etc.\n",
    "int isprint(int c);  เช็คว่าเป็น เครื่องหมาย printable characters หรือไม่ // รวม space แต่ไม่รวม tab\n",
    "int isgraph(int c);  เช็ตว่าเป็น เครื่องหมาย printable characters graphic หรือไม่ // เป็นตัวที่แสดงออกมาให้เห็นเท่านั้น ไม่นับพวก tab, space,  newline, etc.\n",
    "```\n",
    "\\* ถ้าเป็นตามเงื่อนไขจะ Return true ( เป็น จน. เต็มที่ไม่ใช่ 1 ) ถ้าไม่ตรงก็จะ Return false ( 0 )  \n",
    "\\*\\*เราสามารถใช้ Char ในการเช็คได้เพราะว่า char เล็กกว่า int สามารถเปลงไปเป็น int ได้\n",
    "\n",
    "**ฟังก์ชั่นสำหรับเปลี่ยนแปลง Characters**\n",
    "```c \n",
    "int toupper(int c);  return ตัวอักษรที่เป็นตัวพิมพ์ใหญ่ออกมา ถ้าเป็นตัวใหญ่ก็จะ Return ตัวเดิม\n",
    "int tolower(int c);  return ตัวอักษรที่เป็นตัวพิมพ์เล็กออกมา ถ้าเป็นตัวเล็กก็จะ Return ตัวเดิม\n",
    "```\n",
    "\\* จะไม่เปลี่ยน character เดิมแต่จะ return ออกมาแทน\n",
    "\n",
    "เพิ่มเติม https://www.tutorialspoint.com/c_standard_library/ctype_h.htm"
   ]
  },
  {
   "cell_type": "markdown",
   "id": "a110a527",
   "metadata": {},
   "source": [
    "## String function from Standard library <stdlib.h>\n",
    "\n",
    "```c\n",
    "double strtod(const char *nPtr, char **endPtr);  \n",
    "=> เป็นฟังก์ชันแยก String กับ ตัวเลข แล้วส่งค่ากลับเป็น double ของตัวเลข\n",
    "long int strtol(const char *str, char **endptr, int base);  \n",
    "=> เป็นฟังก์ชันแยก String กับ ตัวเลข และสามารถกำหนดฐานได้ แล้วส่งค่ากลับเป็น long ของตัวเลข\n",
    "unsigned long int strtoul(const char *str, char **endptr, int base);  \n",
    "=> เป็นฟังก์ชันแยก String กับ ตัวเลข และสามารถกำหนดฐานได้ แล้วส่งค่ากลับเป็น unsigned long ของตัวเลข\n",
    "```"
   ]
  },
  {
   "cell_type": "code",
   "execution_count": 7,
   "id": "102c2773",
   "metadata": {},
   "outputs": [
    {
     "name": "stdout",
     "output_type": "stream",
     "text": [
      "Price : 29.120000\n",
      "String : | is price|\n"
     ]
    }
   ],
   "source": [
    "#include <stdio.h>\n",
    "#include <stdlib.h>\n",
    "\n",
    "int main() {\n",
    "    char str[30] = \"29.12 is price\"; // ตัวเลขต้องนำหน้าอักขระเสมอ หรือมีเฉพาะตัวเลขก็ได้ \n",
    "    char *stringPtr;\n",
    "    double price;\n",
    "\n",
    "    price = strtod(str, &stringPtr); \n",
    "    printf(\"Price : %lf\\n\", price);\n",
    "    printf(\"String : |%s|\\n\", stringPtr);\n",
    "}"
   ]
  },
  {
   "cell_type": "code",
   "execution_count": 9,
   "id": "0b7d71ea",
   "metadata": {},
   "outputs": [
    {
     "name": "stdout",
     "output_type": "stream",
     "text": [
      "Price : 0.000000\n",
      "String : |Price is 29.12|\n"
     ]
    }
   ],
   "source": [
    "#include <stdio.h>\n",
    "#include <stdlib.h>\n",
    "\n",
    "int main() {\n",
    "    char str[30] = \"Price is 29.12\"; // ในตัวอย่างนี้จะนำ String ไว้ข้างหน้า จะไม่สสามารถแยกได้\n",
    "    char *stringPtr;\n",
    "    double price;\n",
    "     \n",
    "    price = strtod(str, &stringPtr); \n",
    "    printf(\"Price : %lf\\n\", price);\n",
    "    printf(\"String : |%s|\\n\", stringPtr);\n",
    "}"
   ]
  },
  {
   "cell_type": "code",
   "execution_count": 10,
   "id": "db0f4a99",
   "metadata": {},
   "outputs": [
    {
     "name": "stdout",
     "output_type": "stream",
     "text": [
      "3\n",
      ".90 is my GPA\n"
     ]
    }
   ],
   "source": [
    "#include <stdio.h>\n",
    "#include <stdlib.h>\n",
    "\n",
    "int main() {\n",
    "    char *data = \"3.90 is my GPA\";\n",
    "    char *left_over;\n",
    "\n",
    "    long gpa = strtol(data, &left_over, 10);\n",
    "\n",
    "    printf(\"%ld\\n\", gpa);\n",
    "    printf(\"%s\\n\", left_over);\n",
    "\n",
    "}\n"
   ]
  },
  {
   "cell_type": "markdown",
   "id": "238012b7",
   "metadata": {},
   "source": [
    "## String function from standard io <stdio.h>"
   ]
  },
  {
   "cell_type": "markdown",
   "id": "86c7312f",
   "metadata": {},
   "source": [
    "```c\n",
    "int getchar(void);  รับ character มา 1 คัวแล้ว retern ออกมา\n",
    "char *fgets(char *s, int n , FILE *stream);  เป็นการรับ Input เข้ามาขนาด n หรือจนหมดบรรทัดหรือมีการขึ้นบรรทัดใหม่ มาใส่ใน string s แล้วมีการ Return string นั้นออกมา\n",
    "int putchar(int c);  เป็นการปริ้น character ออกมาทีละ 1 ตัว และ Return ค่าออกมา\n",
    "int puts(const char *s);   เป็นการปริ้น string ตามด้วย newline ออกไป ถ้าปริ้นสำเร็จจะ Return true => ค่าที่ไม่ใช่ 0 และ Return EOF => -1 ถ้าเกิด Error ขึ้น\n",
    "int sprintf(char *s, const char *format, ...);  เป็นการปริ้นแบบ format ใส่ลงใน string  โดยจะ Return จำนวนตัวอักขระที่ทำการปริ้นลงไป และ Return EOF => -1 ถ้าหากเกิด Error\n",
    "int sscanf(char *s, const char *format, ...);  เป็นการ Scan แบบ format จาก String  โดยจะ Return จำนวน items ที่ scan สำเร็จ และ Return EOF => -1 เมื่อเกิด Error ขึ้น\n",
    "```"
   ]
  },
  {
   "cell_type": "code",
   "execution_count": 12,
   "id": "2075edee",
   "metadata": {},
   "outputs": [
    {
     "name": "stdout",
     "output_type": "stream",
     "text": [
      "1 + 2 = 3\n"
     ]
    }
   ],
   "source": [
    "#include <stdio.h>\n",
    "\n",
    "int main() {\n",
    "    int x = 1;\n",
    "    int y = 2;\n",
    "\n",
    "    char result[20];\n",
    "\n",
    "    sprintf(result, \"%d + %d = %d\", x, y, x + y);\n",
    "    puts(result);\n",
    "\n",
    "}"
   ]
  },
  {
   "cell_type": "code",
   "execution_count": 15,
   "id": "cb1671b0",
   "metadata": {},
   "outputs": [
    {
     "name": "stdout",
     "output_type": "stream",
     "text": [
      "x = 15, y = 20\n"
     ]
    }
   ],
   "source": [
    "#include <stdio.h>\n",
    "\n",
    "int main() {\n",
    "    char tupple[10] = \"(15, 20)\";\n",
    "    \n",
    "    int x;\n",
    "    int y;\n",
    "    \n",
    "    sscanf(tupple, \"(%d, %d)\", &x, &y);\n",
    "    printf(\"x = %d, y = %d\\n\", x, y);\n",
    "}"
   ]
  },
  {
   "cell_type": "markdown",
   "id": "68629611",
   "metadata": {},
   "source": [
    "## String Manipulation in <string.h>"
   ]
  },
  {
   "cell_type": "markdown",
   "id": "2221b5bd",
   "metadata": {},
   "source": [
    "### String Function\n",
    "\n",
    "```c \n",
    "char *strcpy(char *s1, const char *s2);  เป็นการ Copy string s2 ไปยัง string s1 โดยจะ Return s1\n",
    "char *strncopy(char *s1, const char *s2, size_t n);  เป็นการ Copy string s2 ขนาด n ตัวนับจากทางซ้ายไปยัง s1 และ Return s1 ออกมา\n",
    "\n",
    "char *strcat(char *s1, const char *s2)  เป็นการนำ s2 มาต่อหลัง s1 แล้ว Return s1 ออกมา\n",
    "char *strncat(char *s1, const char *s2, size_t n)  เป็นการนำ s2 n ตัวนับจากทางซ้าย มาต่อหลัง s1 แล้ว Return s1 ออกมา\n",
    "```"
   ]
  },
  {
   "cell_type": "code",
   "execution_count": 17,
   "id": "c1c90f26",
   "metadata": {},
   "outputs": [
    {
     "name": "stdout",
     "output_type": "stream",
     "text": [
      "Kasetsart University\n",
      "Kasetsart\n"
     ]
    }
   ],
   "source": [
    "#include <stdio.h>\n",
    "#include <string.h>\n",
    "\n",
    "int main() {\n",
    "    char data[] = \"Kasetsart University\";\n",
    "    char all[25];\n",
    "    char name_only[25];   \n",
    "\n",
    "    strcpy(all, data);\n",
    "    strncpy(name_only, data, 9);\n",
    "    name_only[9] = '\\0';\n",
    "\n",
    "    puts(all);\n",
    "    puts(name_only);\n",
    "}"
   ]
  },
  {
   "cell_type": "code",
   "execution_count": 18,
   "id": "12410f30",
   "metadata": {},
   "outputs": [
    {
     "name": "stdout",
     "output_type": "stream",
     "text": [
      "John Doe\n"
     ]
    }
   ],
   "source": [
    "#include <stdio.h>\n",
    "#include <string.h>\n",
    "\n",
    "int main() {\n",
    "    char fullname[20] = \"John \";\n",
    "    char *lastname = \"Doe\";\n",
    "\n",
    "    strcat(fullname, lastname);\n",
    "    puts(fullname);\n",
    "}"
   ]
  },
  {
   "cell_type": "markdown",
   "id": "01a31593",
   "metadata": {},
   "source": [
    "```c \n",
    "char *strcmp(const char *s1, const char *s2);  เป็นการเปรียบเทียบ s1 กับ s2  \n",
    "\n",
    "char *strncmp(const char *s1, const chat *s2, size_t n);  เป็นการเปรียบเทียบ s1 กับ s2 เป็นจำนวน n ตัว\n",
    "\n",
    "ถ้า str1 < str2 จะ Return จำนวน < 0  \n",
    "ถ้า str1 = str2 จะ Return 0  \n",
    "ถ้า str1 > str2 จะ Return จำนวน > 0   \n",
    "โดยจะดูจากค่าของ ASCII ของ Character ตัวแรกที่ไม่เหมือนกัน\n",
    "```"
   ]
  },
  {
   "cell_type": "code",
   "execution_count": 20,
   "id": "b82a0670",
   "metadata": {},
   "outputs": [
    {
     "name": "stdout",
     "output_type": "stream",
     "text": [
      "strcmp(Apple, Cherry) = -2\n",
      "strcmp(Cherry, Apple) = 2\n",
      "strcmp(Cherry, Chocolate) = -10\n",
      "strcmp(Chocolate, Chocolate) = 0\n"
     ]
    }
   ],
   "source": [
    "#include <stdio.h>\n",
    "#include <string.h>\n",
    "\n",
    "int main() {\n",
    "    char s1[] = \"Apple\";\n",
    "    char s2[] = \"Cherry\";\n",
    "    char s3[] = \"Chocolate\";\n",
    "    char s4[] = \"Chocolate\";\n",
    "\n",
    "    printf(\"strcmp(Apple, Cherry) = %d\\n\", strcmp(s1,s2));\n",
    "    printf(\"strcmp(Cherry, Apple) = %d\\n\", strcmp(s2,s1));\n",
    "    printf(\"strcmp(Cherry, Chocolate) = %d\\n\", strcmp(s2,s3));\n",
    "\n",
    "    printf(\"strcmp(Chocolate, Chocolate) = %d\\n\", strcmp(s3,s4));\n",
    "}\n"
   ]
  },
  {
   "cell_type": "markdown",
   "id": "0fda9dcf",
   "metadata": {},
   "source": [
    "```c\n",
    "char *strchr(const char *s1, int c);   Return pointer ที่ชี้ไปที่ string s1 ในตัวแหน่งที่เจอ c เป็นตัวแรก ถ้าไม่เจอจะ Return NULL Pointer\n",
    "char *strrchr(const char *s1, int c);    Return pointer ที่ชี้ไปที่ string s1 ในตัวแหน่งที่เจอ c เป็นตัวสุดท้าย ถ้าไม่เจอจะ Return NULL Pointer\n",
    "char *strstr(const char *s1, const char *s2);   Return pointer ที่ชี้ไปที่ตำแหน่ง string s1 ที่เจอ string s2 เป็นตัวแรก ถ้าไม่เจอจะ Return NULL Pointer\n",
    "size_t strcspn(const char *s1, const char *s2);  Return จำนวนอักขระของ s1 ตัวสุดท้ายก่อนเจออักขระใด อักขระหนึ่งใน s2\n",
    "size_t strspn(const char *s1, const char *s2);  Return จำนวนอักขระที่เจอของ s1 ที่เจอใน s2 จำนวน n ตัวแรก\n",
    "char *strpbrk(const char *s1, const char *s2);  Return pointer ที่ชี้ไปที่อักขระตัวแรกของ s1 ที่ตรงกับอักขระใน s2 ถ้าไม่เจอจะ Return NULL pointer\n",
    "char *strtok(char *str, const char *delim);  ใช้สำหรับแยกคำด้วย delim คล้ายๆกับ split() ใน python\n",
    "size_t strlen(const char *s);  เป็นฟังก์ชั่นสำหรับการนับตัวอักษรโดยจะไม่นับ Null Character\n",
    "```"
   ]
  },
  {
   "cell_type": "code",
   "execution_count": 24,
   "id": "93418f76",
   "metadata": {},
   "outputs": [
    {
     "name": "stdout",
     "output_type": "stream",
     "text": [
      "strchr(Kasetsart, s) = setsart\n",
      "strchr(Kasetsart, x) = NULL\n",
      "strrchr(Kasetsart, s) = sart\n",
      "strstr(Kasetsart, et) = etsart\n"
     ]
    }
   ],
   "source": [
    "#include <stdio.h>\n",
    "#include <string.h>\n",
    "\n",
    "int main() {\n",
    "    char *data = \"Kasetsart\";\n",
    "\n",
    "    printf(\"strchr(Kasetsart, s) = %s\\n\", strchr(data, 's'));\n",
    "\n",
    "    printf(\"strchr(Kasetsart, x) = %s\\n\", (strchr(data, 'x') != NULL) ?  strchr(data, 'x') : \"NULL\");\n",
    "\n",
    "    printf(\"strrchr(Kasetsart, s) = %s\\n\", strrchr(data, 's'));\n",
    "\n",
    "    printf(\"strstr(Kasetsart, et) = %s\\n\", strstr(data, \"et\"));\n",
    "}"
   ]
  },
  {
   "cell_type": "code",
   "execution_count": 25,
   "id": "b6972e78",
   "metadata": {},
   "outputs": [
    {
     "name": "stdout",
     "output_type": "stream",
     "text": [
      "strcspn(cherry, aeiou) = 2\n",
      "strcspn(aeon, aeiou) = 0\n",
      "\n",
      "strspn(cherry, aeiou) = 0\n",
      "strspn(aeon, aeiou) = 3\n"
     ]
    }
   ],
   "source": [
    "#include <stdio.h>\n",
    "#include <string.h>\n",
    "\n",
    "int main() {\n",
    "    char *cherry = \"cherry\";\n",
    "    char *aeon = \"aeon\";\n",
    "\n",
    "    char *vowels = \"aeiou\";\n",
    "\n",
    "    // strcspn\n",
    "    printf(\"strcspn(cherry, aeiou) = %ld\\n\", strcspn(cherry, vowels));\n",
    "    printf(\"strcspn(aeon, aeiou) = %ld\\n\\n\", strcspn(aeon, vowels));\n",
    "\n",
    "    // strspn\n",
    "    printf(\"strspn(cherry, aeiou) = %ld\\n\", strspn(cherry, vowels));\n",
    "    printf(\"strspn(aeon, aeiou) = %ld\\n\", strspn(aeon, vowels));\n",
    "}"
   ]
  },
  {
   "cell_type": "code",
   "execution_count": 29,
   "id": "8d0831b2",
   "metadata": {},
   "outputs": [
    {
     "name": "stdout",
     "output_type": "stream",
     "text": [
      "erry\n",
      "axxx\n"
     ]
    }
   ],
   "source": [
    "#include <stdio.h>\n",
    "#include <string.h>\n",
    "\n",
    "int main() {\n",
    "    char *cherry = \"cherry\";\n",
    "    char *aeon = \"axxx\";\n",
    "    \n",
    "    char *vowels = \"aeiou\";\n",
    "\n",
    "    printf(\"%s\\n\", strpbrk(cherry, vowels));\n",
    "    printf(\"%s\\n\", strpbrk(aeon, vowels));\n",
    "}"
   ]
  },
  {
   "cell_type": "code",
   "execution_count": 30,
   "id": "a864f776",
   "metadata": {},
   "outputs": [
    {
     "name": "stdout",
     "output_type": "stream",
     "text": [
      "Kasetsart\n",
      "University\n",
      "is\n",
      "in\n",
      "Bangkok\n"
     ]
    }
   ],
   "source": [
    "#include <stdio.h>\n",
    "#include <string.h>\n",
    "\n",
    "int main () {\n",
    "    char data[] = \"Kasetsart University is in Bangkok\";\n",
    "\n",
    "    char *tokenPtr = strtok(data, \" \");\n",
    "\n",
    "    while (tokenPtr != NULL) {\n",
    "        printf(\"%s\\n\", tokenPtr);\n",
    "        tokenPtr = strtok(NULL, \" \");\n",
    "    }\n",
    "}"
   ]
  },
  {
   "cell_type": "markdown",
   "id": "3470058f",
   "metadata": {},
   "source": [
    "### Memory Functions\n",
    "```c\n",
    "void *memcpy(void *dest, const void * src, size_t n);  จะเป็นการ Copy Object จาก src ไปยัง dest ที่มีขนาด n \n",
    "void *memmove(void *dest, const void *src, size_t n);  จะเป็นการ Copy Object จาก src ไปยัง dest ที่มีขนาด n โดยจะมีการ copy src ไปยัง tmp array ก่อนมาใส่ใน dest // ทำให้สามารถ Copy ใส่ตัวแปรเดิมได้\n",
    "int memcmp(const void *s1, const void *s2, size_t n);  จะเป็นการเปรียบเที่ยบ s1 กับ s2 เป็นจำนวน n ตัว\n",
    "ถ้า s1 < s2 จะ Return จำนวน < 0  \n",
    "ถ้า s1 = s2 จะ Return 0  \n",
    "ถ้า s1 > s2 จะ Return จำนวน > 0   \n",
    "โดยจะดูจากค่าของ ASCII ของ Character ตัวแรกที่ไม่เหมือนกัน\n",
    "\n",
    "void *memchr(const void *s, int c, size_t n);  จะ Return pointer ไปที่ character ตัวแรกของ s ที่เจอ c หากไม่เจอจะ Return NULLL\n",
    "void *memset(void *s, int c, size_t n);   เป็นการ replace s ด้วย c เป็นจำนวน n ตัว\n",
    "```"
   ]
  },
  {
   "cell_type": "markdown",
   "id": "40d840c6",
   "metadata": {},
   "source": [
    "ปัญหาการใช้ memcpy สำหรับการ copy ตัวเอง  \n",
    "![memcpy-problem](memcpy-cp-problem.gif)"
   ]
  },
  {
   "cell_type": "code",
   "execution_count": 31,
   "id": "f36e4098",
   "metadata": {},
   "outputs": [
    {
     "name": "stdout",
     "output_type": "stream",
     "text": [
      "Kasetsart\n",
      "Kaset\n"
     ]
    }
   ],
   "source": [
    "#include <stdio.h>\n",
    "#include <string.h>\n",
    "\n",
    "int main () {\n",
    "    char *source = \"Kasetsart\";\n",
    "    char dest[20];\n",
    "\n",
    "    memcpy(dest, source, 5);\n",
    "    dest[5] = '\\0';\n",
    "\n",
    "    puts(source);\n",
    "    puts(dest);\n",
    "}"
   ]
  },
  {
   "cell_type": "code",
   "execution_count": 32,
   "id": "857f4003",
   "metadata": {},
   "outputs": [
    {
     "name": "stdout",
     "output_type": "stream",
     "text": [
      "Kasetsart\n",
      "Kaset\n"
     ]
    }
   ],
   "source": [
    "#include <stdio.h>\n",
    "#include <string.h>\n",
    "\n",
    "int main () {\n",
    "    char *source = \"Kasetsart\";\n",
    "    char dest[20];\n",
    "\n",
    "    memmove(dest, source, 5);\n",
    "    dest[5] = '\\0';\n",
    "\n",
    "    puts(source);\n",
    "    puts(dest);\n",
    "}"
   ]
  },
  {
   "cell_type": "code",
   "execution_count": 35,
   "id": "c87c7a43",
   "metadata": {},
   "outputs": [
    {
     "name": "stdout",
     "output_type": "stream",
     "text": [
      "01234345678bcd\n"
     ]
    }
   ],
   "source": [
    "#include <stdio.h>\n",
    "#include <string.h>\n",
    "\n",
    "int main () {\n",
    "    char source[] = \"0123456789abcd\";\n",
    "\n",
    "    // expected result: \"01234345678bcd\";\n",
    "    //    memcpy ก็อปปี้ใส่ตัวเองทันที\n",
    "    //    ทำให้การก็อปปี้ทำงานไม่ถูกต้อง\n",
    "    memcpy(&source[5], &source[3], 6);\n",
    "\n",
    "    puts(source);\n",
    "}"
   ]
  },
  {
   "cell_type": "code",
   "execution_count": 34,
   "id": "142ed7d9",
   "metadata": {},
   "outputs": [
    {
     "name": "stdout",
     "output_type": "stream",
     "text": [
      "01234345678bcd\n"
     ]
    }
   ],
   "source": [
    "#include <stdio.h>\n",
    "#include <string.h>\n",
    "\n",
    "int main () {\n",
    "    char source[] = \"0123456789abcd\";\n",
    "\n",
    "    // expected result: \"01234345678bcd\";\n",
    "    //    memmove ก็อปปี้ใส่อะเรย์ชั่วคราวเอาไว้ \n",
    "    //    ทำให้การก็อปปี้มาใส่ตัวเองทำงานถูกต้อง\n",
    "    memmove(&source[5], &source[3], 6);\n",
    "\n",
    "    puts(source);\n",
    "}"
   ]
  },
  {
   "cell_type": "code",
   "execution_count": 39,
   "id": "1d835b9d",
   "metadata": {},
   "outputs": [
    {
     "name": "stdout",
     "output_type": "stream",
     "text": [
      "xxxxx World\n",
      "strlen(source) = 11\n"
     ]
    }
   ],
   "source": [
    "#include <stdio.h>\n",
    "#include <string.h>\n",
    "\n",
    "int main () {\n",
    "    char source[] = \"Hello World\";\n",
    "\n",
    "    memset(source, 'x', 5);\n",
    "\n",
    "    puts(source);\n",
    "\n",
    "    printf(\"strlen(source) = %lu\\n\", strlen(source));\n",
    "}\n"
   ]
  }
 ],
 "metadata": {
  "kernelspec": {
   "display_name": "C",
   "language": "c",
   "name": "c"
  },
  "language_info": {
   "file_extension": ".c",
   "mimetype": "text/plain",
   "name": "c"
  }
 },
 "nbformat": 4,
 "nbformat_minor": 5
}
