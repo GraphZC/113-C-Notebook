{
 "cells": [
  {
   "cell_type": "markdown",
   "metadata": {},
   "source": [
    "# Union\n",
    "Union เป็น derived data type คล้ายๆ Struc ที่มี member ที่แชร์ข้อมูลและหน่วยความจำกันโดยจะมีขนาดเท่ากับ member ทื่มีขนาดใหญ่ที่สุดใน Union เนื่องจากสมัยก่อนหน่วยความจำมีค่อนข้างน้อยและมีราคาแพง เลยมีการเก็บตัวแปรที่ใช้ต่างสถาณการณ์และ คนละเวลากันใน Union โดย Data type จะเป็นอะไรก็ได้ โดยการ initailize ค่าจะกำหนดค่าได้เพียงค่าเดียวเท่านั้นคือค่าของ member ตัวแรก (แต่ถ้าหาก assign จะเลือกได้ว่าเป็นค่าของตัวไหน)  \n",
    "\\*\\* ไม่สามารถใช้ == ในการเปรียบเทียบได้\n"
   ]
  },
  {
   "cell_type": "code",
   "execution_count": null,
   "metadata": {},
   "outputs": [],
   "source": [
    "#include <stdio.h>\n",
    "\n",
    "union number {\n",
    "    int x;\n",
    "    double y;\n",
    "};\n",
    "\n",
    "int main() {\n",
    "    union number value = {100};\n",
    "    printf(\"value.x = %d\\n\", value.x);\n",
    "    printf(\"vaiue.y = %f\\n\", value.y);\n",
    "\n",
    "    value.y = 2.5;\n",
    "    printf(\"value.x = %d\\n\", value.x);\n",
    "    printf(\"vaiue.y = %f\\n\", value.y);\n",
    "\n",
    "    printf(\"sizeof(value) = %ld\\n\", sizeof(value));\n",
    "}"
   ]
  },
  {
   "cell_type": "code",
   "execution_count": null,
   "metadata": {},
   "outputs": [],
   "source": [
    "#include <stdio.h>\n",
    "\n",
    "union mydata {\n",
    "    int x;\n",
    "    char c;\n",
    "};\n",
    "\n",
    "int main() {\n",
    "    union mydata value;\n",
    "\n",
    "    value.x = 100;\n",
    "    printf(\"value.x = %d\\n\", value.x);\n",
    "    printf(\"vaiue.c = %c\\n\", value.c);\n",
    "\n",
    "    value.c = 'a';\n",
    "    printf(\"value.x = %d\\n\", value.x);\n",
    "    printf(\"vaiue.c = %c\\n\", value.c);\n",
    "\n",
    "    printf(\"sizeof(value) = %ld\\n\", sizeof(value));\n",
    "}"
   ]
  },
  {
   "cell_type": "markdown",
   "metadata": {},
   "source": [
    "# Enum\n",
    "Enum คือเซ็ตของจำนวนเต็มที่แทนด้วยค่าคงตัว enumeration constants โดย default จะมีการเรียงเหมือน array ที่เริ่มจาก 0 ไปเรื่อยๆ"
   ]
  },
  {
   "cell_type": "code",
   "execution_count": null,
   "metadata": {},
   "outputs": [],
   "source": [
    "#include <stdio.h>\n",
    "\n",
    "enum days {\n",
    "    MON, TUE, WED, THU, FRI, SAT, SUN\n",
    "};\n",
    "\n",
    "int main() {\n",
    "    for (int i = MON; i <= SUN; i++) {\n",
    "        printf(\"%d \", i);\n",
    "    }\n",
    "}"
   ]
  },
  {
   "cell_type": "markdown",
   "metadata": {},
   "source": [
    "เรายังสามารถกำหนดค่าเริ่มต้นของ enum ได้"
   ]
  },
  {
   "cell_type": "code",
   "execution_count": null,
   "metadata": {},
   "outputs": [],
   "source": [
    "#include <stdio.h>\n",
    "\n",
    "enum days {\n",
    "    MON = 1, TUE, WED, THU, FRI, SAT, SUN\n",
    "};\n",
    "\n",
    "int main() {\n",
    "    for (int i = MON; i <= SUN; i++) {\n",
    "        printf(\"%d \", i);\n",
    "    }\n",
    "}"
   ]
  },
  {
   "cell_type": "code",
   "execution_count": null,
   "metadata": {},
   "outputs": [],
   "source": [
    "#include <stdio.h>\n",
    "\n",
    "enum days {\n",
    "    MON = 1, TUE, WED, THU, FRI, SAT, SUN\n",
    "};\n",
    "\n",
    "int main() {\n",
    "    const char *daysInWeek[] = {\"\", \"Monday\", \"Tuesday\", \"Wednesday\", \"Thursday\", \"Friday\", \"Saturday\", \"Sunday\"}; \n",
    "\n",
    "    for (int i = MON; i <= SUN; i++) {\n",
    "        printf(\"%d : %s\\n\", i, daysInWeek[i]);\n",
    "    }\n",
    "}"
   ]
  }
 ],
 "metadata": {
  "interpreter": {
   "hash": "31f2aee4e71d21fbe5cf8b01ff0e069b9275f58929596ceb00d14d90e3e16cd6"
  },
  "kernelspec": {
   "display_name": "C",
   "language": "c",
   "name": "c"
  },
  "language_info": {
   "file_extension": ".c",
   "mimetype": "text/x-csrc",
   "name": "c"
  }
 },
 "nbformat": 4,
 "nbformat_minor": 2
}
